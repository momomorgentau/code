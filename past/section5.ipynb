{
 "cells": [
  {
   "cell_type": "markdown",
   "metadata": {},
   "source": [
    "# PAST本 5章"
   ]
  },
  {
   "cell_type": "markdown",
   "metadata": {},
   "source": [
    "## P76 Bingo(ABC157B)"
   ]
  },
  {
   "cell_type": "code",
   "execution_count": null,
   "metadata": {},
   "outputs": [],
   "source": [
    "A = []\n",
    "for _ in range(3):\n",
    "    a = list(map(int,input().split()))\n",
    "    A.append(a)\n",
    "    \n",
    "M = []\n",
    "for i in range(3):\n",
    "    row = []\n",
    "    for j in range(3):\n",
    "        row.append(False)\n",
    "    M.append(row)\n",
    "n = int(input())\n",
    "\n",
    "for _ in range(n):\n",
    "    b = int(input())\n",
    "    for i in range(3):\n",
    "        for j in range(3):\n",
    "            if A[i][j] == b:\n",
    "                M[i][j] = True\n",
    "bingo = False\n",
    "#横\n",
    "for i in range(3):\n",
    "    if M[i][0] and M[i][1] and M[i][2]:\n",
    "        bingo = True\n",
    "        \n",
    "for i in range(3):\n",
    "    if M[0][i] and M[1][i] and M[2][i]:\n",
    "        bingo = True\n",
    "        \n",
    "if M[0][0] and M[1][1] and M[2][2]:\n",
    "    bingo = True\n",
    "    \n",
    "if M[0][2] and M[1][1] and M[2][0]:\n",
    "    bingo = True\n",
    "    \n",
    "if bingo:\n",
    "    print(\"Yes\")\n",
    "else:\n",
    "    print(\"No\")\n",
    "        "
   ]
  },
  {
   "cell_type": "markdown",
   "metadata": {},
   "source": [
    "## P84 Takahashi's Information(ABC88C)"
   ]
  },
  {
   "cell_type": "code",
   "execution_count": null,
   "metadata": {},
   "outputs": [],
   "source": [
    "A = []\n",
    "for _ in range(3):\n",
    "    row = list(map(int,input().split()))\n",
    "    A.append(row)\n",
    "\n",
    "ans = True\n",
    "if A[0][0] - A[0][1] != A[1][0] - A[1][1] or A[1][0] - A[1][1] != A[2][0] - A[2][1]:\n",
    "    ans = False\n",
    "if A[0][1] - A[0][2] != A[1][1] - A[1][2] or A[1][1] - A[1][2] != A[2][1] - A[2][2]:\n",
    "    ans = False\n",
    "if A[0][0] - A[1][0] != A[0][1] - A[1][1] or A[0][1] - A[1][1] != A[0][2] - A[1][2]:\n",
    "    ans = False\n",
    "if A[1][0] - A[2][0] != A[1][1] - A[2][1] or A[1][1] - A[2][1] != A[1][2] - A[2][2]:\n",
    "    ans = False\n",
    "    \n",
    "if ans:\n",
    "    print(\"Yes\")\n",
    "else:\n",
    "    print(\"No\")"
   ]
  },
  {
   "cell_type": "markdown",
   "metadata": {},
   "source": [
    "## P88 山崩し（第二回アルゴリズム実技検定C問題）"
   ]
  },
  {
   "cell_type": "code",
   "execution_count": null,
   "metadata": {},
   "outputs": [],
   "source": [
    "n = int(input())\n",
    "S = []\n",
    "for _ in range(n):\n",
    "    row = input()\n",
    "    row = list(row)\n",
    "    S.append(row)\n",
    "dx = [-1,0,1]\n",
    "dy = [1,1,1]\n",
    "for i in range(n):\n",
    "    for j in range(1,2*n-1):\n",
    "        if S[i][j] == \"#\":\n",
    "            isX = False\n",
    "            for di in dx:\n",
    "                for dj in dy:\n",
    "                    ni = i + di\n",
    "                    nj = j + dj\n",
    "                    if 0 <= ni < n and 0 <= nj < 2*n-1:\n",
    "                        if S[ni][nj] == \"X\":\n",
    "                            isX = True\n",
    "            if isX:\n",
    "                S[i][j] = 'X'\n",
    "for i in range(n):\n",
    "    S[i] = ' '.join(S[i])\n",
    "    print(S[i])"
   ]
  },
  {
   "cell_type": "markdown",
   "metadata": {},
   "source": [
    "## P.95 ゾロ目数（ARC46 A問題）"
   ]
  },
  {
   "cell_type": "code",
   "execution_count": 30,
   "metadata": {},
   "outputs": [
    {
     "name": "stdout",
     "output_type": "stream",
     "text": [
      "50\n",
      "555555\n"
     ]
    }
   ],
   "source": [
    "n = int(input())\n",
    "def judge(d):\n",
    "    same = True\n",
    "    s = str(d)\n",
    "    for i in range(len(s)-1):\n",
    "        if s[i] != s[i+1]:\n",
    "            same = False\n",
    "            break   \n",
    "    return same\n",
    "\n",
    "cnt  = 0\n",
    "ans = 0\n",
    "while(cnt < n):\n",
    "    ans+=1\n",
    "    if judge(ans):\n",
    "        cnt+=1\n",
    "print(ans)"
   ]
  },
  {
   "cell_type": "markdown",
   "metadata": {},
   "source": [
    "## P.98 We Love Golf(ABC 165 A)"
   ]
  },
  {
   "cell_type": "code",
   "execution_count": 32,
   "metadata": {},
   "outputs": [
    {
     "name": "stdout",
     "output_type": "stream",
     "text": [
      "7\n",
      "500 600\n",
      "OK\n"
     ]
    }
   ],
   "source": [
    "k = int(input())\n",
    "a, b = list(map(int,input().split()))\n",
    "ok = False\n",
    "for i in range(a,b+1):\n",
    "    if i % k == 0:\n",
    "        ok = True\n",
    "if ok:\n",
    "    print(\"OK\")\n",
    "else:\n",
    "    print(\"NG\")"
   ]
  },
  {
   "cell_type": "markdown",
   "metadata": {},
   "source": [
    "## P.102 パターンマッチ（PAST 2 D）"
   ]
  },
  {
   "cell_type": "code",
   "execution_count": 43,
   "metadata": {},
   "outputs": [
    {
     "name": "stdout",
     "output_type": "stream",
     "text": [
      "aabbaabb\n",
      "33\n"
     ]
    }
   ],
   "source": [
    "s = input()\n",
    "\n",
    "def judge(s,t):\n",
    "    for i in range(len(s)-len(t)+1):\n",
    "        ok = True\n",
    "        for j in range(len(t)):\n",
    "            if s[i+j] != t[j] and t[j] != \".\":\n",
    "                ok = False\n",
    "        if ok:\n",
    "            return True\n",
    "    return False\n",
    "\n",
    "C = \"abcdefghijklmnopqrstuvwxyz.\"\n",
    "ans = 0\n",
    "for i in C:\n",
    "    if judge(s,i):\n",
    "        ans += 1\n",
    "\n",
    "for i in C:\n",
    "    for j in C:\n",
    "        t2 = i + j\n",
    "        if judge(s,t2):\n",
    "            ans+=1\n",
    "\n",
    "for i in C:\n",
    "    for j in C:\n",
    "        for k in C:\n",
    "            t3 = i+j+k\n",
    "            if judge(s,t3):\n",
    "                ans+=1\n",
    "print (ans) "
   ]
  },
  {
   "cell_type": "markdown",
   "metadata": {},
   "source": [
    "## P.112 スプリンクラー（PAST 3 E）"
   ]
  },
  {
   "cell_type": "code",
   "execution_count": null,
   "metadata": {},
   "outputs": [],
   "source": [
    "#隣接リスト\n",
    "n,m,q = list(map(int,input().split()))\n",
    "graph = []\n",
    "for _ in range(n):\n",
    "    row = []\n",
    "    graph.append(row)\n",
    "for _ in range(m):\n",
    "    u,v = list(map(int,input().split()))\n",
    "    u-=1\n",
    "    v -= 1\n",
    "    graph[u].append(v)\n",
    "    graph[v].append(u)\n",
    "\n",
    "C = list(map(int,input().split()))\n",
    "for _ in range(q):\n",
    "    qi = list(map(int,input().split()))\n",
    "    qu = qi[1]-1\n",
    "    print(C[qu])\n",
    "    if qi[0] == 1:\n",
    "        for qv in graph[qu]:\n",
    "            C[qv] = C[qu]\n",
    "    else:\n",
    "        C[qu] = qi[2]\n",
    "#################\n",
    "#隣接行列\n",
    "n,m,q = list(map(int,input().split()))\n",
    "graph = []\n",
    "for _ in range(n):\n",
    "    row = []\n",
    "    for j in range(n):\n",
    "        row.append(False)\n",
    "    graph.append(row)\n",
    "for _ in range(m):\n",
    "    u,v = list(map(int,input().split()))\n",
    "    u -= 1\n",
    "    v -= 1\n",
    "    graph[u][v] = True\n",
    "    graph[v][u] = True\n",
    "\n",
    "C = list(map(int,input().split()))\n",
    "for _ in range(q):\n",
    "    qi = list(map(int,input().split()))\n",
    "    qu = qi[1]-1\n",
    "    print(C[qu])\n",
    "    if qi[0] == 1:\n",
    "        for i in range(n):\n",
    "            if graph[qu][i]:\n",
    "                C[i] = C[qu]\n",
    "    else:\n",
    "        C[qu] = qi[2]"
   ]
  },
  {
   "cell_type": "markdown",
   "metadata": {},
   "source": [
    "# P.123 SNSのログ（PAST 1 E）"
   ]
  },
  {
   "cell_type": "code",
   "execution_count": null,
   "metadata": {},
   "outputs": [],
   "source": [
    "n,q = list(map(int,input().split()))\n",
    "s = []\n",
    "for _ in range(q):\n",
    "    row = list(map(int,input().split()))\n",
    "    for i in range(len(row)):\n",
    "        row[i] -= 1\n",
    "    s.append(row)\n",
    "\n",
    "graph = []\n",
    "for _ in range(n):\n",
    "    row = []\n",
    "    for __ in range(n):\n",
    "        row.append(False)\n",
    "    graph.append(row)\n",
    "\n",
    "for query in s:\n",
    "    if query[0] == 0:\n",
    "        graph[query[1]][query[2]] = True\n",
    "    elif query[0] == 1:\n",
    "        for i in range(n):\n",
    "            if graph[i][query[1]]:\n",
    "                graph[query[1]][i] = True\n",
    "    else:\n",
    "        addlist = []\n",
    "        for i in range(n):\n",
    "            if graph[query[1]][i]:\n",
    "                for j in range(n):\n",
    "                    if graph[i][j] and query[1] != j:\n",
    "                        addlist.append(j)\n",
    "        for i in addlist:\n",
    "            graph[query[1]][i] = True\n",
    "for i in range(n):\n",
    "    for j in range(n):\n",
    "        if graph[i][j]:\n",
    "            graph[i][j] = 'Y'\n",
    "        else:\n",
    "            graph[i][j] = 'N'\n",
    "\n",
    "for i in range(n):\n",
    "    graph[i] = ''.join(graph[i])\n",
    "    print(graph[i])\n"
   ]
  }
 ],
 "metadata": {
  "kernelspec": {
   "display_name": "Python 3",
   "language": "python",
   "name": "python3"
  },
  "language_info": {
   "codemirror_mode": {
    "name": "ipython",
    "version": 3
   },
   "file_extension": ".py",
   "mimetype": "text/x-python",
   "name": "python",
   "nbconvert_exporter": "python",
   "pygments_lexer": "ipython3",
   "version": "3.7.0"
  }
 },
 "nbformat": 4,
 "nbformat_minor": 2
}
